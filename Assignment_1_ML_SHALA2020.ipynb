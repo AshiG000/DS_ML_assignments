{
  "nbformat": 4,
  "nbformat_minor": 0,
  "metadata": {
    "colab": {
      "name": "ML_L1_Assignment.ipynb",
      "provenance": [],
      "collapsed_sections": []
    },
    "kernelspec": {
      "name": "python3",
      "display_name": "Python 3"
    }
  },
  "cells": [
    {
      "cell_type": "markdown",
      "metadata": {
        "id": "_lnS8bdSWnuK",
        "colab_type": "text"
      },
      "source": [
        "# **Assignment 1** (Intro to Machine Learning)"
      ]
    },
    {
      "cell_type": "markdown",
      "metadata": {
        "id": "a0_VaZIOWzut",
        "colab_type": "text"
      },
      "source": [
        "## Note:\n",
        "\n",
        "* The dataset to be used is `attrition.csv`. This dataset reveals whether a particular employee left the company or not.  \n",
        "* In this dataset, the column named `Attrition` is the target variable and the remaining columns are features. Please note that `Attrition = 1` means the employee left the company, whereas `Attrition = 0` means the opposite of this statement. \n",
        "*  This dataset has been loaded in this assignment as shown below. In case, you are not able to load this data, please note that this data is stored separately as well in the assignment folder. "
      ]
    },
    {
      "cell_type": "code",
      "metadata": {
        "id": "7bF8pLu6VdCg",
        "colab_type": "code",
        "colab": {}
      },
      "source": [
        "import pandas as pd"
      ],
      "execution_count": 0,
      "outputs": []
    },
    {
      "cell_type": "code",
      "metadata": {
        "id": "5ABlrvQjXFgv",
        "colab_type": "code",
        "colab": {}
      },
      "source": [
        "data_url = \"https://raw.githubusercontent.com/shala2020/shala2020.github.io/master/Lecture_Materials/Assignments/MachineLearning/L1/attrition.csv\"\n",
        "attrition_data = pd.read_csv(data_url)"
      ],
      "execution_count": 0,
      "outputs": []
    },
    {
      "cell_type": "code",
      "metadata": {
        "id": "ljGWG-REXpeg",
        "colab_type": "code",
        "outputId": "b0fdbc3d-6acb-42eb-a583-4a178fd64413",
        "colab": {
          "base_uri": "https://localhost:8080/",
          "height": 34
        }
      },
      "source": [
        "attrition_data.head()\n",
        "attrition_data.shape"
      ],
      "execution_count": 0,
      "outputs": [
        {
          "output_type": "execute_result",
          "data": {
            "text/plain": [
              "(1028, 34)"
            ]
          },
          "metadata": {
            "tags": []
          },
          "execution_count": 140
        }
      ]
    },
    {
      "cell_type": "markdown",
      "metadata": {
        "id": "aiByk21xYXod",
        "colab_type": "text"
      },
      "source": [
        "## Instructions:\n",
        "\n",
        "* You are required to use a classifier, which can predict the `Attrition` for the employees. \n",
        "* Before implementing any model, you will have to apply suitable encoding to the features and implement exploratory data analysis to know your data better. \n",
        "* You can either define your own custom-made classifer or select classifier(s) available in the `scikit-learn`.\n",
        "* You are supposed to implement a minimum of three classifiers (e.g.  `RandomForestClassifier`, `XGBClassifier`, `DecisionTreeClassifier`, `KNeighborsClassifier`, etc.) and evaluate which one is giving the best peformance. \n",
        "* For each of the classifier,  report the accuracy, precision, recall, roc curve, etc. "
      ]
    },
    {
      "cell_type": "markdown",
      "metadata": {
        "id": "Z6Z7spcObKvd",
        "colab_type": "text"
      },
      "source": [
        "## Resources:\n",
        "\n",
        "* You might want to refer to the [lecture notebook](https://github.com/shala2020/shala2020.github.io/tree/master/Lecture_Materials/Google_Colab_Notebooks/MachineLearning/L1) for revising the concepts.\n",
        "* You can also refer to the pre-work material for the first lecture on ML.  "
      ]
    },
    {
      "cell_type": "code",
      "metadata": {
        "id": "tc3QgtJjtUCC",
        "colab_type": "code",
        "colab": {}
      },
      "source": [
        "# importing libraries\n",
        "import numpy as np\n"
      ],
      "execution_count": 0,
      "outputs": []
    },
    {
      "cell_type": "code",
      "metadata": {
        "id": "VCA5nRc1NP3U",
        "colab_type": "code",
        "outputId": "3c3989da-0c68-4b1a-d6a5-39b355b6affc",
        "colab": {
          "base_uri": "https://localhost:8080/",
          "height": 204
        }
      },
      "source": [
        "#### preprocessing starts\n",
        "columns = attrition_data.columns\n",
        "columns"
      ],
      "execution_count": 0,
      "outputs": [
        {
          "output_type": "execute_result",
          "data": {
            "text/plain": [
              "Index(['Age', 'Attrition', 'BusinessTravel', 'DailyRate', 'Department',\n",
              "       'DistanceFromHome', 'Education', 'EducationField', 'EmployeeCount',\n",
              "       'EmployeeNumber', 'EnvironmentSatisfaction', 'Gender', 'HourlyRate',\n",
              "       'JobInvolvement', 'JobLevel', 'JobRole', 'JobSatisfaction',\n",
              "       'MaritalStatus', 'MonthlyIncome', 'MonthlyRate', 'NumCompaniesWorked',\n",
              "       'OverTime', 'PercentSalaryHike', 'PerformanceRating',\n",
              "       'RelationshipSatisfaction', 'StockOptionLevel', 'TotalWorkingYears',\n",
              "       'TrainingTimesLastYear', 'WorkLifeBalance', 'YearsAtCompany',\n",
              "       'YearsInCurrentRole', 'YearsSinceLastPromotion', 'YearsWithCurrManager',\n",
              "       'ID'],\n",
              "      dtype='object')"
            ]
          },
          "metadata": {
            "tags": []
          },
          "execution_count": 142
        }
      ]
    },
    {
      "cell_type": "code",
      "metadata": {
        "id": "PsRS7uhFtqf5",
        "colab_type": "code",
        "outputId": "ec1d2f45-2fdd-4665-8fd1-3a6a888be71e",
        "colab": {
          "base_uri": "https://localhost:8080/",
          "height": 714
        }
      },
      "source": [
        "attrition_data.info()"
      ],
      "execution_count": 0,
      "outputs": [
        {
          "output_type": "stream",
          "text": [
            "<class 'pandas.core.frame.DataFrame'>\n",
            "RangeIndex: 1028 entries, 0 to 1027\n",
            "Data columns (total 34 columns):\n",
            " #   Column                    Non-Null Count  Dtype \n",
            "---  ------                    --------------  ----- \n",
            " 0   Age                       1028 non-null   int64 \n",
            " 1   Attrition                 1028 non-null   int64 \n",
            " 2   BusinessTravel            1028 non-null   object\n",
            " 3   DailyRate                 1028 non-null   int64 \n",
            " 4   Department                1028 non-null   object\n",
            " 5   DistanceFromHome          1028 non-null   int64 \n",
            " 6   Education                 1028 non-null   int64 \n",
            " 7   EducationField            1028 non-null   object\n",
            " 8   EmployeeCount             1028 non-null   int64 \n",
            " 9   EmployeeNumber            1028 non-null   int64 \n",
            " 10  EnvironmentSatisfaction   1028 non-null   int64 \n",
            " 11  Gender                    1028 non-null   object\n",
            " 12  HourlyRate                1028 non-null   int64 \n",
            " 13  JobInvolvement            1028 non-null   int64 \n",
            " 14  JobLevel                  1028 non-null   int64 \n",
            " 15  JobRole                   1028 non-null   object\n",
            " 16  JobSatisfaction           1028 non-null   int64 \n",
            " 17  MaritalStatus             1028 non-null   object\n",
            " 18  MonthlyIncome             1028 non-null   int64 \n",
            " 19  MonthlyRate               1028 non-null   int64 \n",
            " 20  NumCompaniesWorked        1028 non-null   int64 \n",
            " 21  OverTime                  1028 non-null   object\n",
            " 22  PercentSalaryHike         1028 non-null   int64 \n",
            " 23  PerformanceRating         1028 non-null   int64 \n",
            " 24  RelationshipSatisfaction  1028 non-null   int64 \n",
            " 25  StockOptionLevel          1028 non-null   int64 \n",
            " 26  TotalWorkingYears         1028 non-null   int64 \n",
            " 27  TrainingTimesLastYear     1028 non-null   int64 \n",
            " 28  WorkLifeBalance           1028 non-null   int64 \n",
            " 29  YearsAtCompany            1028 non-null   int64 \n",
            " 30  YearsInCurrentRole        1028 non-null   int64 \n",
            " 31  YearsSinceLastPromotion   1028 non-null   int64 \n",
            " 32  YearsWithCurrManager      1028 non-null   int64 \n",
            " 33  ID                        1028 non-null   int64 \n",
            "dtypes: int64(27), object(7)\n",
            "memory usage: 273.2+ KB\n"
          ],
          "name": "stdout"
        }
      ]
    },
    {
      "cell_type": "code",
      "metadata": {
        "id": "J2dPUe5Qt2Pa",
        "colab_type": "code",
        "outputId": "e38e8352-3aa5-4ede-f0eb-50a80ea7896e",
        "colab": {
          "base_uri": "https://localhost:8080/",
          "height": 663
        }
      },
      "source": [
        "attrition_data = attrition_data.drop(['EmployeeCount', 'EmployeeNumber', 'ID'],axis=1)\n",
        "attrition_data.info()"
      ],
      "execution_count": 0,
      "outputs": [
        {
          "output_type": "stream",
          "text": [
            "<class 'pandas.core.frame.DataFrame'>\n",
            "RangeIndex: 1028 entries, 0 to 1027\n",
            "Data columns (total 31 columns):\n",
            " #   Column                    Non-Null Count  Dtype \n",
            "---  ------                    --------------  ----- \n",
            " 0   Age                       1028 non-null   int64 \n",
            " 1   Attrition                 1028 non-null   int64 \n",
            " 2   BusinessTravel            1028 non-null   object\n",
            " 3   DailyRate                 1028 non-null   int64 \n",
            " 4   Department                1028 non-null   object\n",
            " 5   DistanceFromHome          1028 non-null   int64 \n",
            " 6   Education                 1028 non-null   int64 \n",
            " 7   EducationField            1028 non-null   object\n",
            " 8   EnvironmentSatisfaction   1028 non-null   int64 \n",
            " 9   Gender                    1028 non-null   object\n",
            " 10  HourlyRate                1028 non-null   int64 \n",
            " 11  JobInvolvement            1028 non-null   int64 \n",
            " 12  JobLevel                  1028 non-null   int64 \n",
            " 13  JobRole                   1028 non-null   object\n",
            " 14  JobSatisfaction           1028 non-null   int64 \n",
            " 15  MaritalStatus             1028 non-null   object\n",
            " 16  MonthlyIncome             1028 non-null   int64 \n",
            " 17  MonthlyRate               1028 non-null   int64 \n",
            " 18  NumCompaniesWorked        1028 non-null   int64 \n",
            " 19  OverTime                  1028 non-null   object\n",
            " 20  PercentSalaryHike         1028 non-null   int64 \n",
            " 21  PerformanceRating         1028 non-null   int64 \n",
            " 22  RelationshipSatisfaction  1028 non-null   int64 \n",
            " 23  StockOptionLevel          1028 non-null   int64 \n",
            " 24  TotalWorkingYears         1028 non-null   int64 \n",
            " 25  TrainingTimesLastYear     1028 non-null   int64 \n",
            " 26  WorkLifeBalance           1028 non-null   int64 \n",
            " 27  YearsAtCompany            1028 non-null   int64 \n",
            " 28  YearsInCurrentRole        1028 non-null   int64 \n",
            " 29  YearsSinceLastPromotion   1028 non-null   int64 \n",
            " 30  YearsWithCurrManager      1028 non-null   int64 \n",
            "dtypes: int64(24), object(7)\n",
            "memory usage: 249.1+ KB\n"
          ],
          "name": "stdout"
        }
      ]
    },
    {
      "cell_type": "code",
      "metadata": {
        "id": "HN7DRmMlx6GQ",
        "colab_type": "code",
        "colab": {}
      },
      "source": [
        "categorical_columns = ['BusinessTravel', 'Department', 'EducationField','Gender', \n",
        "                       'JobRole','MaritalStatus', 'OverTime']\n",
        "outputs = ['Attrition']"
      ],
      "execution_count": 0,
      "outputs": []
    },
    {
      "cell_type": "code",
      "metadata": {
        "id": "NmZ2rzJZVkqW",
        "colab_type": "code",
        "outputId": "fbbab716-65ed-4716-fbca-ebd9f08131e8",
        "colab": {
          "base_uri": "https://localhost:8080/",
          "height": 901
        }
      },
      "source": [
        "##this is way from scratch to implement One-hot encoding\n",
        "attrition_data_final = attrition_data\n",
        "for col in categorical_columns:\n",
        "  # print(col)\n",
        "  Xdummies = []\n",
        "  Xdummies = pd.get_dummies(attrition_data_final[col])\n",
        "  # Xdummies.info()\n",
        "  Xdummies = Xdummies.drop(Xdummies.columns[0], axis = 1)\n",
        "  attrition_data_final = attrition_data_final.drop([col], axis='columns')\n",
        "  attrition_data_final = pd.concat([attrition_data_final,Xdummies],axis='columns')\n",
        "attrition_data_final.info()\n",
        "# final = final.drop(['west windsor'], axis='columns')"
      ],
      "execution_count": 0,
      "outputs": [
        {
          "output_type": "stream",
          "text": [
            "<class 'pandas.core.frame.DataFrame'>\n",
            "RangeIndex: 1028 entries, 0 to 1027\n",
            "Data columns (total 45 columns):\n",
            " #   Column                    Non-Null Count  Dtype\n",
            "---  ------                    --------------  -----\n",
            " 0   Age                       1028 non-null   int64\n",
            " 1   Attrition                 1028 non-null   int64\n",
            " 2   DailyRate                 1028 non-null   int64\n",
            " 3   DistanceFromHome          1028 non-null   int64\n",
            " 4   Education                 1028 non-null   int64\n",
            " 5   EnvironmentSatisfaction   1028 non-null   int64\n",
            " 6   HourlyRate                1028 non-null   int64\n",
            " 7   JobInvolvement            1028 non-null   int64\n",
            " 8   JobLevel                  1028 non-null   int64\n",
            " 9   JobSatisfaction           1028 non-null   int64\n",
            " 10  MonthlyIncome             1028 non-null   int64\n",
            " 11  MonthlyRate               1028 non-null   int64\n",
            " 12  NumCompaniesWorked        1028 non-null   int64\n",
            " 13  PercentSalaryHike         1028 non-null   int64\n",
            " 14  PerformanceRating         1028 non-null   int64\n",
            " 15  RelationshipSatisfaction  1028 non-null   int64\n",
            " 16  StockOptionLevel          1028 non-null   int64\n",
            " 17  TotalWorkingYears         1028 non-null   int64\n",
            " 18  TrainingTimesLastYear     1028 non-null   int64\n",
            " 19  WorkLifeBalance           1028 non-null   int64\n",
            " 20  YearsAtCompany            1028 non-null   int64\n",
            " 21  YearsInCurrentRole        1028 non-null   int64\n",
            " 22  YearsSinceLastPromotion   1028 non-null   int64\n",
            " 23  YearsWithCurrManager      1028 non-null   int64\n",
            " 24  Travel_Frequently         1028 non-null   uint8\n",
            " 25  Travel_Rarely             1028 non-null   uint8\n",
            " 26  Research & Development    1028 non-null   uint8\n",
            " 27  Sales                     1028 non-null   uint8\n",
            " 28  Life Sciences             1028 non-null   uint8\n",
            " 29  Marketing                 1028 non-null   uint8\n",
            " 30  Medical                   1028 non-null   uint8\n",
            " 31  Other                     1028 non-null   uint8\n",
            " 32  Technical Degree          1028 non-null   uint8\n",
            " 33  Male                      1028 non-null   uint8\n",
            " 34  Human Resources           1028 non-null   uint8\n",
            " 35  Laboratory Technician     1028 non-null   uint8\n",
            " 36  Manager                   1028 non-null   uint8\n",
            " 37  Manufacturing Director    1028 non-null   uint8\n",
            " 38  Research Director         1028 non-null   uint8\n",
            " 39  Research Scientist        1028 non-null   uint8\n",
            " 40  Sales Executive           1028 non-null   uint8\n",
            " 41  Sales Representative      1028 non-null   uint8\n",
            " 42  Married                   1028 non-null   uint8\n",
            " 43  Single                    1028 non-null   uint8\n",
            " 44  Yes                       1028 non-null   uint8\n",
            "dtypes: int64(24), uint8(21)\n",
            "memory usage: 214.0 KB\n"
          ],
          "name": "stdout"
        }
      ]
    },
    {
      "cell_type": "code",
      "metadata": {
        "id": "SEV8ju3-4-Wr",
        "colab_type": "code",
        "colab": {}
      },
      "source": [
        "# time to implement various models\n",
        "\n",
        "# # import the important packages\n",
        "from sklearn.neural_network import MLPClassifier\n",
        "from sklearn.ensemble import RandomForestClassifier\n",
        "from sklearn import svm\n",
        "from sklearn.tree import DecisionTreeClassifier\n",
        "from sklearn.ensemble import AdaBoostClassifier\n",
        "from sklearn.ensemble import GradientBoostingClassifier\n",
        "from sklearn.experimental import enable_hist_gradient_boosting\n",
        "from sklearn.ensemble import HistGradientBoostingClassifier\n",
        "from sklearn.naive_bayes import GaussianNB\n",
        "from sklearn.metrics import accuracy_score\n",
        "from sklearn.metrics import confusion_matrix\n",
        "from sklearn import metrics"
      ],
      "execution_count": 0,
      "outputs": []
    },
    {
      "cell_type": "code",
      "metadata": {
        "id": "3DHeKp9e9m66",
        "colab_type": "code",
        "outputId": "cae9e8a1-8b20-4212-87f5-592aef2bd20f",
        "colab": {
          "base_uri": "https://localhost:8080/",
          "height": 51
        }
      },
      "source": [
        "x = attrition_data_final.drop(outputs, axis = 1)\n",
        "y = attrition_data_final[outputs]\n",
        "from sklearn.model_selection import train_test_split\n",
        "x_train, x_val, y_train, y_val = train_test_split(x,y, test_size= 0.2, random_state=42,shuffle=True)\n",
        "print('training set',x_train.shape)\n",
        "print('validation set', x_val.shape)"
      ],
      "execution_count": 0,
      "outputs": [
        {
          "output_type": "stream",
          "text": [
            "training set (822, 44)\n",
            "validation set (206, 44)\n"
          ],
          "name": "stdout"
        }
      ]
    },
    {
      "cell_type": "code",
      "metadata": {
        "id": "a3qyeCd6AJaW",
        "colab_type": "code",
        "colab": {}
      },
      "source": [
        "# from sklearn.ensemble import AdaBoostClassifier\n",
        "# from sklearn.model_selection import KFold\n",
        "# from sklearn.metrics import accuracy_score \n",
        "\n",
        "# clf = AdaBoostClassifier()\n",
        "# clf.fit(x_train, y_train)\n",
        "# y_pred = clf.predict(x_val)\n",
        "# Acc = accuracy_score(y_val, y_pred)\n",
        "\n",
        "# print(Acc)"
      ],
      "execution_count": 0,
      "outputs": []
    },
    {
      "cell_type": "code",
      "metadata": {
        "id": "TAZ1u_MJFQgV",
        "colab_type": "code",
        "colab": {}
      },
      "source": [
        "# building the classifier\n",
        "# Deep Learning------It gave very low accuracy I guess because the training dataset size is small ---val_acc=0.85\n",
        "# clf = MLPClassifier(hidden_layer_sizes=(10,5,3), activation='relu', solver='adam', alpha=0.3, batch_size=200, learning_rate=  'adaptive', learning_rate_init=0.01\n",
        "#                     , max_iter=200, shuffle=True, random_state=42, momentum=0.9, nesterovs_momentum=True,\n",
        "#                     early_stopping=True, beta_1=0.9, beta_2=0.999, epsilon=1e-08, n_iter_no_change=100,verbose=False)# accuracy =0.8689320388349514\n",
        "\n",
        "# # Random Forest Classifier\n",
        "# clf = RandomForestClassifier(n_estimators=500, criterion='entropy', max_depth=5, min_samples_split=2, min_samples_leaf=1, min_weight_fraction_leaf=0.0, max_features='auto',\n",
        "#                              max_leaf_nodes=None, min_impurity_decrease=0.0, min_impurity_split=None, bootstrap=False, oob_score=False, n_jobs=None, random_state=None,\n",
        "#                               verbose=1, warm_start=False, class_weight=None, ccp_alpha=0.0, max_samples=None)# accuracy = 0.8689320388349514\n",
        "\n",
        "# #Support Vector Machine-----I tried various values of the parameters but the accuracy was low for all\n",
        "# clf = svm.SVC(C=0.01, kernel='rbf', degree=3, gamma=0.1, coef0=0.0, shrinking=True, probability=False, tol=0.001, cache_size=200, class_weight=None, verbose=False,\n",
        "#               max_iter=-1, decision_function_shape='ovr', break_ties=False, random_state=None) # accuracy = 0.8592233009708737\n",
        "\n",
        "# rng = np.random.RandomState(1)\n",
        "# clf = AdaBoostClassifier(RandomForestClassifier(n_estimators = 1000, max_depth = 3),n_estimators=10000, random_state=47)\n",
        "# 0.8592233009708737\n",
        "\n",
        "## I got the best results for AdaBoost classifier with the default values of the free parameters, \n",
        "## this ensemble classifier combines multiple classifiers to increase the accuracy of classifiers\n",
        "## It assigns the higher weight to wrong classified observations so that in the next iteration these observations will get the high probability for classification.\n",
        "## Also, It assigns the weight to the trained classifier in each iteration according to the accuracy of the classifier. The more accurate classifier will get high weight.\n",
        "## This process iterate until the complete training data fits without any error or until reached to the specified maximum number of estimators.\n",
        "# clf = AdaBoostClassifier() #accuracy = 0.8689320388349514\n",
        "\n",
        "# clf = GradientBoostingClassifier()# accuracy= 0.8689320388349514\n",
        "\n",
        "# clf = HistGradientBoostingClassifier()# accuracy = 0.8786407766990292\n",
        "\n",
        "# svc=svm.SVC(probability=True, kernel='rbf')\n",
        "# clf = AdaBoostClassifier(n_estimators=50, base_estimator=svc,learning_rate=1)# accuracy = 0.8592233009708737\n",
        "\n",
        "# clf = GaussianNB() #accuracy = 0.7281553398058253\n",
        "\n",
        "\n",
        "# for ploy\n",
        "# clf = svm.SVC(C=1.0, kernel='rbf', degree=3, gamma=0.01, coef0=0.0, shrinking=True, probability=False, tol=0.001, cache_size=200, class_weight=None, verbose=False,\n",
        "#               max_iter=-1, decision_function_shape='ovr', break_ties=False, random_state=None)# accuracy = 0.8592233009708737\n",
        "\n",
        "# # Decision Tree Classifier\n",
        "# clf = DecisionTreeClassifier(criterion='gini', splitter='best', max_depth=5, min_samples_split=2, min_samples_leaf=1, min_weight_fraction_leaf=0.0,\n",
        "#                              max_features=None, random_state=None, max_leaf_nodes=None, min_impurity_decrease=0.0, min_impurity_split=None,\n",
        "#                              class_weight=None, presort='deprecated', ccp_alpha=0.0) #accuracy = 0.8058252427184466"
      ],
      "execution_count": 0,
      "outputs": []
    },
    {
      "cell_type": "code",
      "metadata": {
        "id": "Hsitb6HZGd2S",
        "colab_type": "code",
        "outputId": "882dab0e-f3d9-4426-e692-7f6e998bfd10",
        "colab": {
          "base_uri": "https://localhost:8080/",
          "height": 34
        }
      },
      "source": [
        "clf.fit(x_train, y_train)\n",
        "y_pred = clf.predict(x_val)\n",
        "Acc = accuracy_score(y_val, y_pred)\n",
        "Acc"
      ],
      "execution_count": 0,
      "outputs": [
        {
          "output_type": "execute_result",
          "data": {
            "text/plain": [
              "0.8058252427184466"
            ]
          },
          "metadata": {
            "tags": []
          },
          "execution_count": 151
        }
      ]
    },
    {
      "cell_type": "code",
      "metadata": {
        "id": "Xvzk53m8IQqJ",
        "colab_type": "code",
        "outputId": "b90c1fbd-ba42-402e-dbbd-8524dd843c92",
        "colab": {
          "base_uri": "https://localhost:8080/",
          "height": 51
        }
      },
      "source": [
        "cm = confusion_matrix(y_val, y_pred)\n",
        "cm"
      ],
      "execution_count": 0,
      "outputs": [
        {
          "output_type": "execute_result",
          "data": {
            "text/plain": [
              "array([[155,  22],\n",
              "       [ 18,  11]])"
            ]
          },
          "metadata": {
            "tags": []
          },
          "execution_count": 153
        }
      ]
    },
    {
      "cell_type": "code",
      "metadata": {
        "id": "Oll4kQlRIUCN",
        "colab_type": "code",
        "outputId": "e956e7bd-cd13-4084-f4e3-fd03d4e9fa4f",
        "colab": {
          "base_uri": "https://localhost:8080/",
          "height": 265
        }
      },
      "source": [
        "import seaborn as sns\n",
        "import matplotlib.pyplot as plt\n",
        "sns.heatmap(cm, center=True)\n",
        "plt.show()"
      ],
      "execution_count": 0,
      "outputs": [
        {
          "output_type": "display_data",
          "data": {
            "image/png": "[encoded data removed]",
            "text/plain": [
              "<Figure size 432x288 with 2 Axes>"
            ]
          },
          "metadata": {
            "tags": [],
            "needs_background": "light"
          }
        }
      ]
    },
    {
      "cell_type": "code",
      "metadata": {
        "id": "SGhRgYoOOMYK",
        "colab_type": "code",
        "outputId": "08d3c192-4b43-4b6a-991b-e49fc53fe5e9",
        "colab": {
          "base_uri": "https://localhost:8080/",
          "height": 51
        }
      },
      "source": [
        "from sklearn.metrics import average_precision_score\n",
        "average_precision = average_precision_score(y_val, y_pred)\n",
        "print('Average precision-recall score: {0:0.2f}'.format(average_precision))\n",
        "\n",
        "from sklearn.metrics import recall_score\n",
        "print('Average precision-recall score: ', recall_score(y_val, y_pred))\n"
      ],
      "execution_count": 0,
      "outputs": [
        {
          "output_type": "stream",
          "text": [
            "Average precision-recall score: 0.21\n",
            "Average precision-recall score:  0.3793103448275862\n"
          ],
          "name": "stdout"
        }
      ]
    },
    {
      "cell_type": "code",
      "metadata": {
        "id": "G5ruw0RgQDQb",
        "colab_type": "code",
        "colab": {}
      },
      "source": [
        "from sklearn.metrics import roc_auc_score\n",
        "from sklearn.metrics import roc_curve, auc\n",
        "# y_val.shape\n",
        "# fpr, tpr = roc_curve(y_val, y_pred)\n",
        "# auc_svm = auc(fpr, tpr)\n",
        "\n",
        "# plt.figure(figsize=(5, 5), dpi=100)\n",
        "# plt.plot(fpr, tpr, linestyle='-', label='SVM (auc = %0.3f)' % auc_svm)\n",
        "# plt.plot(logistic_fpr, logistic_tpr, marker='.', label='Logistic (auc = %0.3f)' % auc_logistic)\n",
        "\n",
        "# n_classes = y_val.shape[1]\n",
        "# fpr = []\n",
        "# tpr = []\n",
        "# roc_auc = []\n",
        "# for i in range(y_val.shape[0]):\n",
        "#     print(roc_curve(y_val[i], y_pred[i]))\n",
        "#     # roc_auc[i] = auc(fpr[i], tpr[i])\n",
        "\n",
        "# # Compute micro-average ROC curve and ROC area\n",
        "# fpr[\"micro\"], tpr[\"micro\"], _ = roc_curve(y_val.ravel(), y_pred.ravel())\n",
        "# roc_auc[\"micro\"] = auc(fpr[\"micro\"], tpr[\"micro\"])"
      ],
      "execution_count": 0,
      "outputs": []
    }
  ]
}